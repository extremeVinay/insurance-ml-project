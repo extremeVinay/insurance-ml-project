{
 "cells": [
  {
   "cell_type": "markdown",
   "id": "c8307e95",
   "metadata": {},
   "source": [
    "# <p style=\"padding:10px;background-color:#87CEEB ;margin:10;color:#000000;font-family:newtimeroman;font-size:100%;text-align:center;border-radius: 10px 10px ;overflow:hidden;font-weight:50\">1. EDA for Insurance Premium</p>"
   ]
  },
  {
   "cell_type": "markdown",
   "id": "258fd30f",
   "metadata": {},
   "source": [
    "### About this file\n",
    "\n",
    "- The insurance.csv dataset contains 1338 observations (rows) and 7 features (columns). The dataset contains 4 numerical features (age, bmi, children and expenses) and 3 nominal features (sex, smoker and region) that were converted into factors with numerical value desginated for each level.\n",
    "\n",
    "- The purposes of this exercise to look into different features to observe their relationship, and plot a multiple linear regression based on several features of individual such as age, physical/family condition and location against their existing medical expense to be used for predicting future medical expenses of individuals that help medical insurance to make decision on charging the premium.\n",
    "\n",
    "\n",
    "\n",
    "Dataset source link:- https://www.kaggle.com/datasets/noordeen/insurance-premium-prediction"
   ]
  },
  {
   "cell_type": "markdown",
   "id": "b6dae81c",
   "metadata": {},
   "source": [
    "# <p style=\"padding:10px;background-color:#87CEEB ;margin:10;color:#000000;font-family:newtimeroman;font-size:100%;text-align:center;border-radius: 10px 10px ;overflow:hidden;font-weight:50\">Import Data and Required Packages</p>"
   ]
  },
  {
   "cell_type": "code",
   "execution_count": null,
   "id": "cf103e5e",
   "metadata": {},
   "outputs": [],
   "source": [
    "import numpy as np\n",
    "import pandas as pd\n",
    "import seaborn as sns\n",
    "import matplotlib.pyplot as plt\n",
    "%matplotlib inline\n",
    "import warnings\n",
    "warnings.filterwarnings('ignore')"
   ]
  },
  {
   "cell_type": "markdown",
   "id": "e9343e3b",
   "metadata": {},
   "source": [
    "# <p style=\"padding:10px;background-color:#87CEEB ;margin:10;color:#000000;font-family:newtimeroman;font-size:100%;text-align:center;border-radius: 10px 10px ;overflow:hidden;font-weight:50\">Read the Dataset</p>"
   ]
  },
  {
   "cell_type": "code",
   "execution_count": null,
   "id": "da67ed7c",
   "metadata": {},
   "outputs": [],
   "source": [
    "df = pd.read_csv(\"./data/insurance.csv\")\n",
    "df.head()"
   ]
  },
  {
   "cell_type": "markdown",
   "id": "8acb662b",
   "metadata": {},
   "source": [
    "### Datset info"
   ]
  },
  {
   "cell_type": "code",
   "execution_count": null,
   "id": "71e57fd3",
   "metadata": {},
   "outputs": [],
   "source": [
    "df.info()"
   ]
  },
  {
   "cell_type": "markdown",
   "id": "63fd6312",
   "metadata": {},
   "source": [
    "# <p style=\"padding:10px;background-color:#87CEEB ;margin:10;color:#000000;font-family:newtimeroman;font-size:100%;text-align:center;border-radius: 10px 10px ;overflow:hidden;font-weight:50\">Check Missing Values in Dataset</p>"
   ]
  },
  {
   "cell_type": "code",
   "execution_count": null,
   "id": "d8a283d9",
   "metadata": {},
   "outputs": [],
   "source": [
    "df.isna().sum()"
   ]
  },
  {
   "cell_type": "markdown",
   "id": "2e6d920d",
   "metadata": {},
   "source": [
    "- No Missing Values found in the dataset"
   ]
  },
  {
   "cell_type": "markdown",
   "id": "67ae657b",
   "metadata": {},
   "source": [
    "# <p style=\"padding:10px;background-color:#87CEEB ;margin:10;color:#000000;font-family:newtimeroman;font-size:100%;text-align:center;border-radius: 10px 10px ;overflow:hidden;font-weight:50\">Check Duplicates in Dataset</p>"
   ]
  },
  {
   "cell_type": "code",
   "execution_count": null,
   "id": "f54707a3",
   "metadata": {},
   "outputs": [],
   "source": [
    "df.duplicated().sum()"
   ]
  },
  {
   "cell_type": "code",
   "execution_count": null,
   "id": "fc934223",
   "metadata": {},
   "outputs": [],
   "source": [
    "df.drop_duplicates()"
   ]
  },
  {
   "cell_type": "markdown",
   "id": "82c630c7",
   "metadata": {},
   "source": [
    "# <p style=\"padding:10px;background-color:#87CEEB ;margin:10;color:#000000;font-family:newtimeroman;font-size:100%;text-align:center;border-radius: 10px 10px ;overflow:hidden;font-weight:50\">Descriptive Statistics</p>"
   ]
  },
  {
   "cell_type": "markdown",
   "id": "ba18dcfa",
   "metadata": {},
   "source": [
    "## Numerical and Categorical columns seperation"
   ]
  },
  {
   "cell_type": "code",
   "execution_count": null,
   "id": "2ce252f1",
   "metadata": {},
   "outputs": [],
   "source": [
    "# define numerical & categorical columns\n",
    "numeric_features = [feature for feature in df.columns if df[feature].dtype != 'O']\n",
    "categorical_features = [feature for feature in df.columns if df[feature].dtype == 'O']\n",
    "\n",
    "# print columns\n",
    "print('We have {} numerical features : {}'.format(len(numeric_features), numeric_features))\n",
    "print('\\nWe have {} categorical features : {}'.format(len(categorical_features), categorical_features))"
   ]
  },
  {
   "cell_type": "markdown",
   "id": "aa5c6c7a",
   "metadata": {},
   "source": [
    "## Numerical Columns Description"
   ]
  },
  {
   "cell_type": "code",
   "execution_count": null,
   "id": "de458760",
   "metadata": {},
   "outputs": [],
   "source": [
    "df.describe().T"
   ]
  },
  {
   "cell_type": "markdown",
   "id": "f16f7ba1",
   "metadata": {},
   "source": [
    "## categorical Columns Description"
   ]
  },
  {
   "cell_type": "code",
   "execution_count": null,
   "id": "02a653db",
   "metadata": {},
   "outputs": [],
   "source": [
    "df[categorical_features].describe().T"
   ]
  },
  {
   "cell_type": "markdown",
   "id": "b5b5e30b",
   "metadata": {},
   "source": [
    "## All unique values in dataset"
   ]
  },
  {
   "cell_type": "code",
   "execution_count": null,
   "id": "120a07c8",
   "metadata": {},
   "outputs": [],
   "source": [
    "df.nunique()"
   ]
  },
  {
   "cell_type": "markdown",
   "id": "6c28d9c5",
   "metadata": {},
   "source": [
    "# <p style=\"padding:10px;background-color:#87CEEB ;margin:10;color:#000000;font-family:newtimeroman;font-size:100%;text-align:center;border-radius: 10px 10px ;overflow:hidden;font-weight:50\"> Exploring Data (Analysis with Visualisation)</p>"
   ]
  },
  {
   "cell_type": "code",
   "execution_count": null,
   "id": "d3b98515",
   "metadata": {},
   "outputs": [],
   "source": [
    "# distribution of age value\n",
    "sns.set()\n",
    "plt.figure(figsize=(6,6))\n",
    "sns.distplot(df['age'])\n",
    "plt.title('Age Distribution')\n"
   ]
  },
  {
   "cell_type": "code",
   "execution_count": null,
   "id": "3d1d6dbe",
   "metadata": {},
   "outputs": [],
   "source": [
    "# Gender column\n",
    "plt.figure(figsize=(6,6))\n",
    "sns.countplot(x='sex', data=df)\n",
    "plt.title('Sex Distribution')"
   ]
  },
  {
   "cell_type": "code",
   "execution_count": null,
   "id": "0cac05af",
   "metadata": {},
   "outputs": [],
   "source": [
    "df['sex'].value_counts()"
   ]
  },
  {
   "cell_type": "code",
   "execution_count": null,
   "id": "edccbd2a",
   "metadata": {},
   "outputs": [],
   "source": [
    "# bmi distribution\n",
    "plt.figure(figsize=(6,6))\n",
    "sns.distplot(df['bmi'])\n",
    "plt.title('BMI Distribution')"
   ]
  },
  {
   "cell_type": "markdown",
   "id": "a251a7c1",
   "metadata": {},
   "source": [
    "Normal BMI Range --> 18.5 to 24.9"
   ]
  },
  {
   "cell_type": "code",
   "execution_count": null,
   "id": "f50e44e9",
   "metadata": {},
   "outputs": [],
   "source": [
    "# children column\n",
    "plt.figure(figsize=(6,6))\n",
    "sns.countplot(x='children', data=df)\n",
    "plt.title('Children')"
   ]
  },
  {
   "cell_type": "code",
   "execution_count": null,
   "id": "59a536bb",
   "metadata": {},
   "outputs": [],
   "source": [
    "df['children'].value_counts()"
   ]
  },
  {
   "cell_type": "code",
   "execution_count": null,
   "id": "02a1149b",
   "metadata": {},
   "outputs": [],
   "source": [
    "# smoker column\n",
    "plt.figure(figsize=(6,6))\n",
    "sns.countplot(x='smoker', data=df)\n",
    "plt.title('smoker')"
   ]
  },
  {
   "cell_type": "code",
   "execution_count": null,
   "id": "9895ce7a",
   "metadata": {},
   "outputs": [],
   "source": [
    "df['smoker'].value_counts()"
   ]
  },
  {
   "cell_type": "code",
   "execution_count": null,
   "id": "a15aacd2",
   "metadata": {},
   "outputs": [],
   "source": [
    "# region column\n",
    "plt.figure(figsize=(6,6))\n",
    "sns.countplot(x='region', data=df)\n",
    "plt.title('region')\n",
    "\n",
    "\n",
    " "
   ]
  },
  {
   "cell_type": "code",
   "execution_count": null,
   "id": "8f7c95d5",
   "metadata": {},
   "outputs": [],
   "source": [
    "plt.pie(x = df['region'].value_counts(),labels=df['region'].value_counts().index,explode=[0.1,0,0,0],autopct='%1.1f%%',shadow=True)\n",
    "plt.show()"
   ]
  },
  {
   "cell_type": "code",
   "execution_count": null,
   "id": "0d892ae8",
   "metadata": {},
   "outputs": [],
   "source": [
    "df['region'].value_counts()"
   ]
  },
  {
   "cell_type": "code",
   "execution_count": null,
   "id": "26803ff5",
   "metadata": {
    "scrolled": true
   },
   "outputs": [],
   "source": [
    "# distribution of charges value\n",
    "plt.figure(figsize=(6,6))\n",
    "sns.distplot(df['expenses'])\n",
    "plt.title('Expenses Distribution')"
   ]
  },
  {
   "cell_type": "code",
   "execution_count": null,
   "id": "73790a86",
   "metadata": {},
   "outputs": [],
   "source": [
    "# Create a countplot of region with a hue for smoker\n",
    "plt.figure(figsize=(10,6))\n",
    "sns.countplot(x='region', data=df, hue='smoker', palette='Blues')\n",
    "plt.title('Region Distribution by Smoker', size=18)\n",
    "plt.xlabel('Region', size=14)\n",
    "plt.ylabel('Count', size=14)\n",
    "plt.show()"
   ]
  },
  {
   "cell_type": "markdown",
   "id": "98fd69fd",
   "metadata": {},
   "source": [
    "### BIVARIATE ANALYSIS ( Is Age type intake has any impact on Expenses ? )"
   ]
  },
  {
   "cell_type": "code",
   "execution_count": null,
   "id": "b9af4989",
   "metadata": {},
   "outputs": [],
   "source": [
    "plt.figure(figsize=(12,6))\n",
    "sns.lineplot(x='age',y='expenses',data=df)"
   ]
  },
  {
   "cell_type": "markdown",
   "id": "5994bc30",
   "metadata": {},
   "source": [
    "### BIVARIATE ANALYSIS ( Is Smoking type intake has any impact on Expenses ? )"
   ]
  },
  {
   "cell_type": "code",
   "execution_count": null,
   "id": "9376a45e",
   "metadata": {},
   "outputs": [],
   "source": [
    "## Age vs Expenses\n",
    "## This also shows who is a smoker or not.\n",
    "\n",
    "plt.figure(figsize = (10,6))\n",
    "sns.scatterplot(x='age',y='expenses',hue='smoker', data=df, palette='deep')\n",
    "plt.title('Age vs Expenses',size=18)\n",
    "plt.xlabel('Age',size=14)\n",
    "plt.ylabel('Expenses',size=14)\n",
    "plt.show()"
   ]
  },
  {
   "cell_type": "code",
   "execution_count": null,
   "id": "4544b732",
   "metadata": {},
   "outputs": [],
   "source": [
    "## Smoker Vs Expenses\n",
    "sns.violinplot(data=df, x='smoker', y='expenses')"
   ]
  },
  {
   "cell_type": "markdown",
   "id": "f43bc285",
   "metadata": {},
   "source": [
    "- The violinplot shows us the cost of insurance for smokers is higher than for non-smokers"
   ]
  },
  {
   "cell_type": "code",
   "execution_count": null,
   "id": "46be674a",
   "metadata": {},
   "outputs": [],
   "source": [
    "plt.figure(figsize=(12,6))\n",
    "sns.barplot(x=df.age,y=df.expenses,hue=df.smoker)"
   ]
  },
  {
   "cell_type": "markdown",
   "id": "308e1ac2",
   "metadata": {},
   "source": [
    "### Insight\n",
    "- Smokers from same age group pay more expenses"
   ]
  },
  {
   "cell_type": "markdown",
   "id": "a1d4fb77",
   "metadata": {},
   "source": [
    "### BIVARIATE ANALYSIS ( Is Region type intake has any impact on Expenses ? )"
   ]
  },
  {
   "cell_type": "code",
   "execution_count": null,
   "id": "0120ae9e",
   "metadata": {},
   "outputs": [],
   "source": [
    "plt.bar(df['region'],df['expenses'])\n",
    "plt.title('Impact of region on expenses',fontsize=18)\n",
    "plt.xlabel('Regions',fontsize=15)\n",
    "plt.ylabel('Expense', fontsize=15)\n"
   ]
  },
  {
   "cell_type": "code",
   "execution_count": null,
   "id": "ebc2dcae",
   "metadata": {},
   "outputs": [],
   "source": [
    "sns.violinplot(data=df, x='region', y='expenses')"
   ]
  },
  {
   "cell_type": "code",
   "execution_count": null,
   "id": "1e1c1c1a",
   "metadata": {},
   "outputs": [],
   "source": [
    "plt.figure(figsize=(12,6))\n",
    "sns.barplot(x=df.age,y=df.expenses,hue=df.region)"
   ]
  },
  {
   "cell_type": "code",
   "execution_count": null,
   "id": "e828f46e",
   "metadata": {},
   "outputs": [],
   "source": [
    "sns.violinplot(data=df, x='children', y='expenses')"
   ]
  },
  {
   "cell_type": "markdown",
   "id": "f36693e0",
   "metadata": {},
   "source": [
    "#### Relation between Sex and Expenses"
   ]
  },
  {
   "cell_type": "code",
   "execution_count": null,
   "id": "e95523ea",
   "metadata": {
    "scrolled": true
   },
   "outputs": [],
   "source": [
    "plt.bar(df['sex'],df['expenses'])"
   ]
  },
  {
   "cell_type": "code",
   "execution_count": null,
   "id": "690f916b",
   "metadata": {},
   "outputs": [],
   "source": [
    "sns.violinplot(data=df, x='sex', y='expenses')"
   ]
  },
  {
   "cell_type": "markdown",
   "id": "7c95e92c",
   "metadata": {},
   "source": [
    "No Differnce on expenses between female and male"
   ]
  },
  {
   "cell_type": "markdown",
   "id": "322a0225",
   "metadata": {},
   "source": [
    "#### BMI\n",
    "\n",
    "- A bit of feature engineering for this one, as the continous data bmi is probably understood better in categeories. according to the BMI indicators: underweight < 18, healthy 18 < 25, overweight 25 < 30, obese > 30.\n"
   ]
  },
  {
   "cell_type": "code",
   "execution_count": null,
   "id": "b86a09fc",
   "metadata": {
    "scrolled": true
   },
   "outputs": [],
   "source": [
    "bins = [0,18.5,25,30, 100]\n",
    "slots = ['under-weight','healthy','over-weight', 'obese']\n",
    "\n",
    "df['Bmi_range']=pd.cut(df['bmi'],bins=bins,labels=slots)\n",
    "df.head()"
   ]
  },
  {
   "cell_type": "code",
   "execution_count": null,
   "id": "24511a5f",
   "metadata": {
    "scrolled": true
   },
   "outputs": [],
   "source": [
    "df['Bmi_range'].value_counts()"
   ]
  },
  {
   "cell_type": "code",
   "execution_count": null,
   "id": "434e0814",
   "metadata": {
    "scrolled": true
   },
   "outputs": [],
   "source": [
    "sns.histplot(data=df, x='Bmi_range')"
   ]
  },
  {
   "cell_type": "code",
   "execution_count": null,
   "id": "6344ac7a",
   "metadata": {
    "scrolled": true
   },
   "outputs": [],
   "source": [
    "df.groupby('Bmi_range')['expenses'].describe()"
   ]
  },
  {
   "cell_type": "code",
   "execution_count": null,
   "id": "dedaae4e",
   "metadata": {
    "scrolled": true
   },
   "outputs": [],
   "source": [
    "sns.violinplot(data=df, x='Bmi_range', y='expenses')"
   ]
  },
  {
   "cell_type": "markdown",
   "id": "47e16e6c",
   "metadata": {},
   "source": [
    "### BMI and smokers"
   ]
  },
  {
   "cell_type": "code",
   "execution_count": null,
   "id": "bd7228e5",
   "metadata": {
    "scrolled": true
   },
   "outputs": [],
   "source": [
    "df.groupby(['Bmi_range', 'smoker'])['expenses'].describe()"
   ]
  },
  {
   "cell_type": "markdown",
   "id": "4371bd89",
   "metadata": {},
   "source": [
    "- People who are obese and smoke on average pay double what overweight smoker, and pay 5 times more than a healthy non-smoker."
   ]
  },
  {
   "cell_type": "code",
   "execution_count": null,
   "id": "386bb102",
   "metadata": {
    "scrolled": true
   },
   "outputs": [],
   "source": [
    "fig, ax = plt.subplots(1, 1, figsize=(12, 8))\n",
    "ax = sns.barplot(x='Bmi_range', y='expenses', hue='smoker', data=df)\n"
   ]
  },
  {
   "cell_type": "markdown",
   "id": "261db928",
   "metadata": {},
   "source": [
    "### BMI and Age"
   ]
  },
  {
   "cell_type": "code",
   "execution_count": null,
   "id": "e29b516e",
   "metadata": {
    "scrolled": true
   },
   "outputs": [],
   "source": [
    "fig, ax = plt.subplots(1, 1, figsize=(12, 8))\n",
    "ax = sns.scatterplot(data=df, x='age', y= 'expenses', hue='Bmi_range')"
   ]
  },
  {
   "cell_type": "markdown",
   "id": "c8c3b2bd",
   "metadata": {},
   "source": [
    "BMI, smoker & age"
   ]
  },
  {
   "cell_type": "code",
   "execution_count": null,
   "id": "71725c35",
   "metadata": {},
   "outputs": [],
   "source": [
    "markers = {\"yes\": \"s\", \"no\": \"X\"}\n",
    "fig, ax = plt.subplots(1, 1, figsize=(12, 8))\n",
    "ax = sns.scatterplot(data=df, x='age', y= 'expenses', hue='Bmi_range', style='smoker',markers=markers)"
   ]
  },
  {
   "cell_type": "markdown",
   "id": "c14dd7f6",
   "metadata": {},
   "source": [
    " #### MUTIVARIATE ANALYSIS USING PAIRPLOT"
   ]
  },
  {
   "cell_type": "code",
   "execution_count": null,
   "id": "457f1dd6",
   "metadata": {},
   "outputs": [],
   "source": [
    "sns.pairplot(df, \n",
    "                 markers=\"+\",\n",
    "                 diag_kind=\"kde\",\n",
    "                 kind='reg',\n",
    "                 plot_kws={'line_kws':{'color':'#aec6cf'}, \n",
    "                           'scatter_kws': {'alpha': 0.7, \n",
    "                                           'color': 'green'}},\n",
    "                 corner=True);"
   ]
  },
  {
   "cell_type": "markdown",
   "id": "d95ce150",
   "metadata": {},
   "source": [
    "#### CHECKING OUTLIERS"
   ]
  },
  {
   "cell_type": "code",
   "execution_count": null,
   "id": "68a18459",
   "metadata": {},
   "outputs": [],
   "source": [
    "plt.subplots(1,4,figsize=(16,5))\n",
    "plt.subplot(141)\n",
    "sns.boxplot(df['age'],color='skyblue')\n",
    "plt.subplot(142)\n",
    "sns.boxplot(df['bmi'],color='hotpink')\n",
    "plt.subplot(143)\n",
    "sns.boxplot(df['children'],color='yellow')\n",
    "plt.show()"
   ]
  },
  {
   "cell_type": "markdown",
   "id": "2fd922b1",
   "metadata": {},
   "source": [
    "### correlation matrix"
   ]
  },
  {
   "cell_type": "code",
   "execution_count": null,
   "id": "f3c9cf9d",
   "metadata": {},
   "outputs": [],
   "source": [
    "# cmap = sns.diverging_palette(70,20,s=50, l=40, n=6,as_cmap=True)\n",
    "# corrmat= df.corr()\n",
    "# f, ax = plt.subplots(figsize=(12,12))\n",
    "# sns.heatmap(corrmat,cmap=cmap,annot=True, )"
   ]
  },
  {
   "cell_type": "code",
   "execution_count": null,
   "id": "a380d19b",
   "metadata": {},
   "outputs": [],
   "source": []
  }
 ],
 "metadata": {
  "kernelspec": {
   "display_name": "Python 3 (ipykernel)",
   "language": "python",
   "name": "python3"
  },
  "language_info": {
   "codemirror_mode": {
    "name": "ipython",
    "version": 3
   },
   "file_extension": ".py",
   "mimetype": "text/x-python",
   "name": "python",
   "nbconvert_exporter": "python",
   "pygments_lexer": "ipython3",
   "version": "3.8.16"
  }
 },
 "nbformat": 4,
 "nbformat_minor": 5
}
